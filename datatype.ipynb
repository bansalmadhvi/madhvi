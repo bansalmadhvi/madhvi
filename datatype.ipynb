{
 "cells": [
  {
   "cell_type": "markdown",
   "metadata": {},
   "source": [
    "<h1>Datatypes</h1>"
   ]
  },
  {
   "cell_type": "code",
   "execution_count": 1,
   "metadata": {},
   "outputs": [
    {
     "name": "stdout",
     "output_type": "stream",
     "text": [
      "hello+++++world\n"
     ]
    }
   ],
   "source": [
    "print(\"hello\",\"world\",sep=\"+++++\")"
   ]
  },
  {
   "cell_type": "code",
   "execution_count": 2,
   "metadata": {},
   "outputs": [
    {
     "name": "stdout",
     "output_type": "stream",
     "text": [
      "print(value, ..., sep=' ', end='\\n', file=sys.stdout, flush=False)\n",
      "\n",
      "Prints the values to a stream, or to sys.stdout by default.\n",
      "Optional keyword arguments:\n",
      "file:  a file-like object (stream); defaults to the current sys.stdout.\n",
      "sep:   string inserted between values, default a space.\n",
      "end:   string appended after the last value, default a newline.\n",
      "flush: whether to forcibly flush the stream.\n"
     ]
    }
   ],
   "source": [
    "print(print.__doc__)"
   ]
  },
  {
   "cell_type": "code",
   "execution_count": 3,
   "metadata": {},
   "outputs": [
    {
     "name": "stdout",
     "output_type": "stream",
     "text": [
      "hello world welcome guys\n"
     ]
    }
   ],
   "source": [
    "print(\"hello\",\"world\",end=' ')\n",
    "print(\"welcome\",\"guys\")"
   ]
  },
  {
   "cell_type": "code",
   "execution_count": 4,
   "metadata": {},
   "outputs": [
    {
     "name": "stdout",
     "output_type": "stream",
     "text": [
      "hello world\n",
      "welcome user\n"
     ]
    }
   ],
   "source": [
    "import time\n",
    "print(\"hello world\")\n",
    "time.sleep(3)\n",
    "print(\"welcome user\")"
   ]
  },
  {
   "cell_type": "code",
   "execution_count": 5,
   "metadata": {},
   "outputs": [],
   "source": [
    "f=open('c:/users/lenovo/desktop/output.txt','a')\n",
    "print(\"hello world\",\"my name is madhvi\",end='\\t\\t',sep='\\t',file=f)\n",
    "print(\"i m going to learn python\",\"welcome\",sep='\\t',file=f)\n"
   ]
  },
  {
   "cell_type": "code",
   "execution_count": 7,
   "metadata": {},
   "outputs": [],
   "source": [
    "f.close()"
   ]
  },
  {
   "cell_type": "code",
   "execution_count": null,
   "metadata": {},
   "outputs": [],
   "source": []
  },
  {
   "cell_type": "code",
   "execution_count": null,
   "metadata": {},
   "outputs": [],
   "source": []
  },
  {
   "cell_type": "code",
   "execution_count": 11,
   "metadata": {},
   "outputs": [
    {
     "name": "stdout",
     "output_type": "stream",
     "text": [
      "hello world\tmy name is madhvi\t\ti m going to learn python\twelcome\n",
      "\n",
      "'hello world\\tmy name is madhvi\\t\\ti m going to learn python\\twelcome\\n'\n"
     ]
    }
   ],
   "source": [
    "with open('c:/users/lenovo/desktop/output.txt') as fp :\n",
    "    data=fp.read()\n",
    "print(data)\n",
    "print(repr(data))"
   ]
  },
  {
   "cell_type": "code",
   "execution_count": 12,
   "metadata": {},
   "outputs": [
    {
     "name": "stdout",
     "output_type": "stream",
     "text": [
      "hello world\tmy name is madhvi\t\ti m going to learn python\twelcome\n",
      "\n",
      "'hello world\\tmy name is madhvi\\t\\ti m going to learn python\\twelcome\\n'\n"
     ]
    }
   ],
   "source": [
    "with open('c:/users/lenovo/desktop/output.txt') as fp:\n",
    "    data=fp.read()\n",
    "print(data)\n",
    "print(repr(data))"
   ]
  },
  {
   "cell_type": "code",
   "execution_count": 13,
   "metadata": {},
   "outputs": [
    {
     "name": "stdout",
     "output_type": "stream",
     "text": [
      "hello world\tmy name is madhvi\t\ti m going to learn python\twelcome\n",
      "\n",
      "'hello world\\tmy name is madhvi\\t\\ti m going to learn python\\twelcome\\n'\n"
     ]
    }
   ],
   "source": [
    "with open('c:/users/lenovo/desktop/output.txt','r') as fp:\n",
    "    data=fp.read()\n",
    "print(data)\n",
    "print(repr(data))"
   ]
  },
  {
   "cell_type": "code",
   "execution_count": null,
   "metadata": {},
   "outputs": [],
   "source": []
  }
 ],
 "metadata": {
  "kernelspec": {
   "display_name": "Python 3",
   "language": "python",
   "name": "python3"
  },
  "language_info": {
   "codemirror_mode": {
    "name": "ipython",
    "version": 3
   },
   "file_extension": ".py",
   "mimetype": "text/x-python",
   "name": "python",
   "nbconvert_exporter": "python",
   "pygments_lexer": "ipython3",
   "version": "3.7.0"
  }
 },
 "nbformat": 4,
 "nbformat_minor": 2
}
